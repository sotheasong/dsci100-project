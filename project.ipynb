{
 "cells": [
  {
   "cell_type": "markdown",
   "metadata": {},
   "source": [
    "# Analyzing player behavior to predict usage of a Minecraft research server"
   ]
  },
  {
   "cell_type": "markdown",
   "metadata": {},
   "source": [
    "## Introduction"
   ]
  },
  {
   "cell_type": "markdown",
   "metadata": {},
   "source": [
    "### Background\n",
    "\n",
    "Minecraft is a sandbox, open-world video game developed by Mojang Studios where players explore, build and interact in a three-dimensional virtual world made of blocks. Players can build structures, gather resources and craft items to aid their survival, either individually or with other players in a multiplayer server (Minecraft.net, 2023). This makes it an ideal platform for studying player behaviors in a video game.\n",
    "\n",
    "A research group led by Professor Frank Wood wants to assess how people play video games. To do this, they have set up a Minecraft server where players' interactions are recorded in detailed session logs. However, in doing so they face challenges such as identifying which players are most valuable to recruit and ensuring they have the resources necessary. "
   ]
  },
  {
   "cell_type": "markdown",
   "metadata": {},
   "source": [
    "### Question\n",
    "\n",
    "The question we want to answer is: **Can player characteristics such as age, gender, and gaming experience predict the total amount of gameplay data (total playtime) contributed by players on a Minecraft server?**"
   ]
  },
  {
   "cell_type": "markdown",
   "metadata": {},
   "source": [
    "### Data Description\n",
    "\n",
    "We will be using the `players.csv` and `sessions.csv` datasets provided by the research group to determine which groups/types of players are most valuable, those who tend to engage the most, to optimize the recruitment process and ensure they have the resources necessary. \n",
    "\n",
    "The data is structured as follows:\n",
    "\n",
    "1. `players.csv`\n",
    "\n",
    "- **player_id** (String): identifier for each player\n",
    "- **age** (Integer): age\n",
    "- **gender** (Categorical): gender (Male, Female, Other)\n",
    "- **experience** (Categorical): gaming experience level (Amateur, Regular, Pro, Veteran)\n",
    "- **subscribe** (Boolean): whether the player subscribed to the game-related newsletter\n",
    "\n",
    "This dataset contains **34** unique playesrs.\n",
    "\n",
    "2. `sessions.csv`\n",
    "\n",
    "- **player_id** (String): identifier for each player\n",
    "- **start** (String): start time of the session\n",
    "- **end** (String): end time of the session\n",
    "\n",
    "This dataset contains **56** recorded sessions, where some of which have missing end times.\n",
    "\n",
    "We calculate total playtime per player (in minutes) by summing all valid session durations. This will be used as the response variable. The explanatory variables are **age**, **gender**, **experience**, and **subscribe**."
   ]
  },
  {
   "cell_type": "markdown",
   "metadata": {},
   "source": [
    "## Methods & Result"
   ]
  },
  {
   "cell_type": "markdown",
   "metadata": {},
   "source": [
    "### Load data"
   ]
  },
  {
   "cell_type": "markdown",
   "metadata": {},
   "source": [
    "## Discussion"
   ]
  },
  {
   "cell_type": "markdown",
   "metadata": {},
   "source": [
    "Lorem ipsum dolor sit amet, consectetur adipiscing elit. Praesent vel ligula scelerisque, feugiat erat vel, tincidunt justo. Curabitur ac sapien nec justo tincidunt interdum. Integer nec libero nec nisi tincidunt vehicula. Fusce id velit ut libero pulvinar facilisis. Sed euismod, nisl eget consectetur fermentum, nisi libero ultricies nunc, nec tincidunt sapien eros nec libero. Nullam id felis ut elit tincidunt pharetra. Suspendisse potenti. Proin ac orci vel arcu tincidunt pharetra. Integer vel nisi nec justo dictum tincidunt ut ac purus."
   ]
  },
  {
   "cell_type": "markdown",
   "metadata": {},
   "source": [
    "## References"
   ]
  },
  {
   "cell_type": "markdown",
   "metadata": {},
   "source": [
    "Landin, Per. “What is Minecraft.” Minecraft.net, 5 June 2023, www.minecraft.net/en-us/article/what-minecraft.\n",
    "\n"
   ]
  },
  {
   "cell_type": "markdown",
   "metadata": {},
   "source": []
  }
 ],
 "metadata": {
  "kernelspec": {
   "display_name": "Python 3",
   "language": "python",
   "name": "python3"
  },
  "language_info": {
   "codemirror_mode": {
    "name": "ipython",
    "version": 3
   },
   "file_extension": ".py",
   "mimetype": "text/x-python",
   "name": "python",
   "nbconvert_exporter": "python",
   "pygments_lexer": "ipython3",
   "version": "3.11.9"
  }
 },
 "nbformat": 4,
 "nbformat_minor": 2
}
